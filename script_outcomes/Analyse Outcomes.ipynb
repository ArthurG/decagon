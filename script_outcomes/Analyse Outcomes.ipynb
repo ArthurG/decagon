{
 "cells": [
  {
   "cell_type": "code",
   "execution_count": 1,
   "metadata": {},
   "outputs": [],
   "source": [
    "import pandas as pd\n",
    "import numpy as np"
   ]
  },
  {
   "cell_type": "code",
   "execution_count": 2,
   "metadata": {},
   "outputs": [
    {
     "data": {
      "text/plain": [
       "(0.8334895863216196, 0.7504336950246866, 0.3713389508893709)"
      ]
     },
     "execution_count": 2,
     "metadata": {},
     "output_type": "execute_result"
    }
   ],
   "source": [
    "df = pd.read_csv(\"livejournal_bw.txt\", header=None)\n",
    "df = df.rename(index=str, columns={0: \"edge_type0\", 1: \"edge_type1\", 2: \"edge_type2\", 3: \"roc\", 4: \"auprc\", 5: \"apk\"})\n",
    "drug_interaction_df = df[(df[\"edge_type0\"] == \"(1\") & (df[\"edge_type1\"] == 1)]\n",
    "np.mean(drug_interaction_df[\"roc\"]), np.mean(drug_interaction_df[\"auprc\"]), np.mean(drug_interaction_df[\"apk\"])"
   ]
  },
  {
   "cell_type": "code",
   "execution_count": null,
   "metadata": {},
   "outputs": [],
   "source": []
  },
  {
   "cell_type": "code",
   "execution_count": null,
   "metadata": {},
   "outputs": [],
   "source": []
  },
  {
   "cell_type": "code",
   "execution_count": 3,
   "metadata": {},
   "outputs": [
    {
     "data": {
      "text/plain": [
       "(0.8242008917106267, 0.7348896471890586, 0.31348970831566336)"
      ]
     },
     "execution_count": 3,
     "metadata": {},
     "output_type": "execute_result"
    }
   ],
   "source": [
    "df = pd.read_csv(\"livejournal_fw.txt\", header=None)\n",
    "df = df.rename(index=str, columns={0: \"edge_type0\", 1: \"edge_type1\", 2: \"edge_type2\", 3: \"roc\", 4: \"auprc\", 5: \"apk\"})\n",
    "drug_interaction_df = df[(df[\"edge_type0\"] == \"(1\") & (df[\"edge_type1\"] == 1)]\n",
    "np.mean(drug_interaction_df[\"roc\"]), np.mean(drug_interaction_df[\"auprc\"]), np.mean(drug_interaction_df[\"apk\"])"
   ]
  },
  {
   "cell_type": "code",
   "execution_count": null,
   "metadata": {},
   "outputs": [],
   "source": []
  },
  {
   "cell_type": "code",
   "execution_count": 4,
   "metadata": {},
   "outputs": [
    {
     "data": {
      "text/plain": [
       "(0.81731158702961, 0.7284068896005346, 0.32567964587963616)"
      ]
     },
     "execution_count": 4,
     "metadata": {},
     "output_type": "execute_result"
    }
   ],
   "source": [
    "df = pd.read_csv(\"webBerkStan-bw.txt\", header=None)\n",
    "df = df.rename(index=str, columns={0: \"edge_type0\", 1: \"edge_type1\", 2: \"edge_type2\", 3: \"roc\", 4: \"auprc\", 5: \"apk\"})\n",
    "drug_interaction_df = df[(df[\"edge_type0\"] == \"(1\") & (df[\"edge_type1\"] == 1)]\n",
    "np.mean(drug_interaction_df[\"roc\"]), np.mean(drug_interaction_df[\"auprc\"]), np.mean(drug_interaction_df[\"apk\"])"
   ]
  },
  {
   "cell_type": "code",
   "execution_count": null,
   "metadata": {},
   "outputs": [],
   "source": []
  },
  {
   "cell_type": "code",
   "execution_count": 5,
   "metadata": {},
   "outputs": [
    {
     "data": {
      "text/plain": [
       "(0.830623101369278, 0.746299805786951, 0.3839354462082512)"
      ]
     },
     "execution_count": 5,
     "metadata": {},
     "output_type": "execute_result"
    }
   ],
   "source": [
    "df = pd.read_csv(\"ppi_default.txt\", header=None)\n",
    "df = df.rename(index=str, columns={0: \"edge_type0\", 1: \"edge_type1\", 2: \"edge_type2\", 3: \"roc\", 4: \"auprc\", 5: \"apk\"})\n",
    "drug_interaction_df = df[(df[\"edge_type0\"] == \"(1\") & (df[\"edge_type1\"] == 1)]\n",
    "np.mean(drug_interaction_df[\"roc\"]), np.mean(drug_interaction_df[\"auprc\"]), np.mean(drug_interaction_df[\"apk\"])"
   ]
  }
 ],
 "metadata": {
  "kernelspec": {
   "display_name": "Python 3",
   "language": "python",
   "name": "python3"
  },
  "language_info": {
   "codemirror_mode": {
    "name": "ipython",
    "version": 3
   },
   "file_extension": ".py",
   "mimetype": "text/x-python",
   "name": "python",
   "nbconvert_exporter": "python",
   "pygments_lexer": "ipython3",
   "version": "3.7.0"
  }
 },
 "nbformat": 4,
 "nbformat_minor": 2
}
