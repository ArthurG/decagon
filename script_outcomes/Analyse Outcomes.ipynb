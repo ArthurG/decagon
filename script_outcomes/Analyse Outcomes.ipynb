{
 "cells": [
  {
   "cell_type": "code",
   "execution_count": 2,
   "metadata": {},
   "outputs": [],
   "source": [
    "import pandas as pd\n",
    "import numpy as np"
   ]
  },
  {
   "cell_type": "code",
   "execution_count": 4,
   "metadata": {},
   "outputs": [
    {
     "data": {
      "text/plain": [
       "(0.8334895863216196, 0.7504336950246866, 0.3713389508893709)"
      ]
     },
     "execution_count": 4,
     "metadata": {},
     "output_type": "execute_result"
    }
   ],
   "source": [
    "df = pd.read_csv(\"livejournal_bw.txt\", header=None)\n",
    "df = df.rename(index=str, columns={0: \"edge_type0\", 1: \"edge_type1\", 2: \"edge_type2\", 3: \"roc\", 4: \"auprc\", 5: \"apk\"})\n",
    "drug_interaction_df = df[(df[\"edge_type0\"] == \"(1\") & (df[\"edge_type1\"] == 1)]\n",
    "np.mean(drug_interaction_df[\"roc\"]), np.mean(drug_interaction_df[\"auprc\"]), np.mean(drug_interaction_df[\"apk\"])"
   ]
  },
  {
   "cell_type": "code",
   "execution_count": null,
   "metadata": {},
   "outputs": [],
   "source": []
  },
  {
   "cell_type": "code",
   "execution_count": null,
   "metadata": {},
   "outputs": [],
   "source": []
  },
  {
   "cell_type": "code",
   "execution_count": 5,
   "metadata": {},
   "outputs": [
    {
     "data": {
      "text/plain": [
       "(0.8242008917106267, 0.7348896471890586, 0.31348970831566336)"
      ]
     },
     "execution_count": 5,
     "metadata": {},
     "output_type": "execute_result"
    }
   ],
   "source": [
    "df = pd.read_csv(\"livejournal_fw.txt\", header=None)\n",
    "df = df.rename(index=str, columns={0: \"edge_type0\", 1: \"edge_type1\", 2: \"edge_type2\", 3: \"roc\", 4: \"auprc\", 5: \"apk\"})\n",
    "drug_interaction_df = df[(df[\"edge_type0\"] == \"(1\") & (df[\"edge_type1\"] == 1)]\n",
    "np.mean(drug_interaction_df[\"roc\"]), np.mean(drug_interaction_df[\"auprc\"]), np.mean(drug_interaction_df[\"apk\"])"
   ]
  },
  {
   "cell_type": "code",
   "execution_count": null,
   "metadata": {},
   "outputs": [],
   "source": []
  },
  {
   "cell_type": "code",
   "execution_count": 6,
   "metadata": {},
   "outputs": [
    {
     "data": {
      "text/plain": [
       "(0.81731158702961, 0.7284068896005346, 0.32567964587963616)"
      ]
     },
     "execution_count": 6,
     "metadata": {},
     "output_type": "execute_result"
    }
   ],
   "source": [
    "df = pd.read_csv(\"webBerkStan-bw.txt\", header=None)\n",
    "df = df.rename(index=str, columns={0: \"edge_type0\", 1: \"edge_type1\", 2: \"edge_type2\", 3: \"roc\", 4: \"auprc\", 5: \"apk\"})\n",
    "drug_interaction_df = df[(df[\"edge_type0\"] == \"(1\") & (df[\"edge_type1\"] == 1)]\n",
    "np.mean(drug_interaction_df[\"roc\"]), np.mean(drug_interaction_df[\"auprc\"]), np.mean(drug_interaction_df[\"apk\"])"
   ]
  },
  {
   "cell_type": "code",
   "execution_count": null,
   "metadata": {},
   "outputs": [],
   "source": []
  },
  {
   "cell_type": "code",
   "execution_count": 7,
   "metadata": {},
   "outputs": [
    {
     "data": {
      "text/plain": [
       "(0.830623101369278, 0.746299805786951, 0.3839354462082512)"
      ]
     },
     "execution_count": 7,
     "metadata": {},
     "output_type": "execute_result"
    }
   ],
   "source": [
    "df = pd.read_csv(\"ppi_default.txt\", header=None)\n",
    "df = df.rename(index=str, columns={0: \"edge_type0\", 1: \"edge_type1\", 2: \"edge_type2\", 3: \"roc\", 4: \"auprc\", 5: \"apk\"})\n",
    "drug_interaction_df = df[(df[\"edge_type0\"] == \"(1\") & (df[\"edge_type1\"] == 1)]\n",
    "np.mean(drug_interaction_df[\"roc\"]), np.mean(drug_interaction_df[\"auprc\"]), np.mean(drug_interaction_df[\"apk\"])"
   ]
  },
  {
   "cell_type": "code",
   "execution_count": null,
   "metadata": {},
   "outputs": [],
   "source": []
  },
  {
   "cell_type": "code",
   "execution_count": 8,
   "metadata": {},
   "outputs": [
    {
     "data": {
      "text/plain": [
       "(0.8273096595367673, 0.7456754304841664, 0.4075155029316405)"
      ]
     },
     "execution_count": 8,
     "metadata": {},
     "output_type": "execute_result"
    }
   ],
   "source": [
    "df = pd.read_csv(\"ppi_random.txt\", header=None)\n",
    "df = df.rename(index=str, columns={0: \"edge_type0\", 1: \"edge_type1\", 2: \"edge_type2\", 3: \"roc\", 4: \"auprc\", 5: \"apk\"})\n",
    "drug_interaction_df = df[(df[\"edge_type0\"] == \"(1\") & (df[\"edge_type1\"] == 1)]\n",
    "np.mean(drug_interaction_df[\"roc\"]), np.mean(drug_interaction_df[\"auprc\"]), np.mean(drug_interaction_df[\"apk\"])"
   ]
  },
  {
   "cell_type": "code",
   "execution_count": null,
   "metadata": {},
   "outputs": [],
   "source": []
  },
  {
   "cell_type": "code",
   "execution_count": 3,
   "metadata": {},
   "outputs": [
    {
     "data": {
      "text/plain": [
       "(0.8025712459231216, 0.7253650572620421, 0.4326057786640986)"
      ]
     },
     "execution_count": 3,
     "metadata": {},
     "output_type": "execute_result"
    }
   ],
   "source": [
    "df = pd.read_csv(\"livejournal_25/livejournal-fw_iter_0.txt\", header=None)\n",
    "df = df.rename(index=str, columns={0: \"edge_type0\", 1: \"edge_type1\", 2: \"edge_type2\", 3: \"roc\", 4: \"auprc\", 5: \"apk\"})\n",
    "drug_interaction_df = df[(df[\"edge_type0\"] == 1) & (df[\"edge_type1\"] == 1)]\n",
    "np.mean(drug_interaction_df[\"roc\"]), np.mean(drug_interaction_df[\"auprc\"]), np.mean(drug_interaction_df[\"apk\"])"
   ]
  },
  {
   "cell_type": "code",
   "execution_count": 4,
   "metadata": {},
   "outputs": [
    {
     "data": {
      "text/plain": [
       "(0.8278158260693703, 0.7377268959448339, 0.32553113706764303)"
      ]
     },
     "execution_count": 4,
     "metadata": {},
     "output_type": "execute_result"
    }
   ],
   "source": [
    "df = pd.read_csv(\"livejournal_25/livejournal-fw_iter_5.txt\", header=None)\n",
    "df = df.rename(index=str, columns={0: \"edge_type0\", 1: \"edge_type1\", 2: \"edge_type2\", 3: \"roc\", 4: \"auprc\", 5: \"apk\"})\n",
    "drug_interaction_df = df[(df[\"edge_type0\"] == 1) & (df[\"edge_type1\"] == 1)]\n",
    "np.mean(drug_interaction_df[\"roc\"]), np.mean(drug_interaction_df[\"auprc\"]), np.mean(drug_interaction_df[\"apk\"])"
   ]
  },
  {
   "cell_type": "code",
   "execution_count": 5,
   "metadata": {},
   "outputs": [
    {
     "data": {
      "text/plain": [
       "(0.8284758019469626, 0.7366667736695132, 0.32205933389902175)"
      ]
     },
     "execution_count": 5,
     "metadata": {},
     "output_type": "execute_result"
    }
   ],
   "source": [
    "df = pd.read_csv(\"livejournal_25/livejournal-fw_iter_10.txt\", header=None)\n",
    "df = df.rename(index=str, columns={0: \"edge_type0\", 1: \"edge_type1\", 2: \"edge_type2\", 3: \"roc\", 4: \"auprc\", 5: \"apk\"})\n",
    "drug_interaction_df = df[(df[\"edge_type0\"] == 1) & (df[\"edge_type1\"] == 1)]\n",
    "np.mean(drug_interaction_df[\"roc\"]), np.mean(drug_interaction_df[\"auprc\"]), np.mean(drug_interaction_df[\"apk\"])"
   ]
  },
  {
   "cell_type": "code",
   "execution_count": 6,
   "metadata": {},
   "outputs": [
    {
     "data": {
      "text/plain": [
       "(0.8382528615772423, 0.7507430917642516, 0.3461391254909912)"
      ]
     },
     "execution_count": 6,
     "metadata": {},
     "output_type": "execute_result"
    }
   ],
   "source": [
    "df = pd.read_csv(\"livejournal_25/livejournal-fw_iter_15.txt\", header=None)\n",
    "df = df.rename(index=str, columns={0: \"edge_type0\", 1: \"edge_type1\", 2: \"edge_type2\", 3: \"roc\", 4: \"auprc\", 5: \"apk\"})\n",
    "drug_interaction_df = df[(df[\"edge_type0\"] == 1) & (df[\"edge_type1\"] == 1)]\n",
    "np.mean(drug_interaction_df[\"roc\"]), np.mean(drug_interaction_df[\"auprc\"]), np.mean(drug_interaction_df[\"apk\"])"
   ]
  },
  {
   "cell_type": "code",
   "execution_count": 7,
   "metadata": {},
   "outputs": [
    {
     "data": {
      "text/plain": [
       "(0.8445779822549466, 0.7580932658198116, 0.3541826070641184)"
      ]
     },
     "execution_count": 7,
     "metadata": {},
     "output_type": "execute_result"
    }
   ],
   "source": [
    "df = pd.read_csv(\"livejournal_25/livejournal-fw_iter_20.txt\", header=None)\n",
    "df = df.rename(index=str, columns={0: \"edge_type0\", 1: \"edge_type1\", 2: \"edge_type2\", 3: \"roc\", 4: \"auprc\", 5: \"apk\"})\n",
    "drug_interaction_df = df[(df[\"edge_type0\"] == 1) & (df[\"edge_type1\"] == 1)]\n",
    "np.mean(drug_interaction_df[\"roc\"]), np.mean(drug_interaction_df[\"auprc\"]), np.mean(drug_interaction_df[\"apk\"])"
   ]
  },
  {
   "cell_type": "code",
   "execution_count": 9,
   "metadata": {},
   "outputs": [
    {
     "data": {
      "text/plain": [
       "(0.8492320170035876, 0.7645490665033676, 0.36217106909336355)"
      ]
     },
     "execution_count": 9,
     "metadata": {},
     "output_type": "execute_result"
    }
   ],
   "source": [
    "df = pd.read_csv(\"livejournal_25/livejournal-fw_iter_final.txt\", header=None)\n",
    "df = df.rename(index=str, columns={0: \"edge_type0\", 1: \"edge_type1\", 2: \"edge_type2\", 3: \"roc\", 4: \"auprc\", 5: \"apk\"})\n",
    "drug_interaction_df = df[(df[\"edge_type0\"] == 1) & (df[\"edge_type1\"] == 1)]\n",
    "np.mean(drug_interaction_df[\"roc\"]), np.mean(drug_interaction_df[\"auprc\"]), np.mean(drug_interaction_df[\"apk\"])"
   ]
  }
 ],
 "metadata": {
  "kernelspec": {
   "display_name": "Python 3",
   "language": "python",
   "name": "python3"
  },
  "language_info": {
   "codemirror_mode": {
    "name": "ipython",
    "version": 3
   },
   "file_extension": ".py",
   "mimetype": "text/x-python",
   "name": "python",
   "nbconvert_exporter": "python",
   "pygments_lexer": "ipython3",
   "version": "3.7.0"
  }
 },
 "nbformat": 4,
 "nbformat_minor": 2
}
